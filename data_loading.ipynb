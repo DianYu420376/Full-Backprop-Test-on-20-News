{
 "cells": [
  {
   "cell_type": "code",
   "execution_count": 2,
   "metadata": {
    "collapsed": true
   },
   "outputs": [],
   "source": [
    "import scipy.io as sio\n",
    "import torch\n",
    "from torch.autograd import Variable\n",
    "import numpy as np"
   ]
  },
  {
   "cell_type": "code",
   "execution_count": 3,
   "metadata": {},
   "outputs": [],
   "source": [
    "X_BOW = sio.loadmat('synthetic_bag_of_words.mat')\n",
    "X_BOW = X_BOW.get('bag_of_words')\n",
    "X_BOW = Variable(torch.from_numpy(X_BOW).double())\n",
    "n = 98\n",
    "\n",
    "Label_BOW = np.zeros(n)\n",
    "Label_BOW[10:25] = 1\n",
    "Label_BOW[25:35] = 2\n",
    "Label_BOW[35:49] = 3\n",
    "Label_BOW[49:59] = 4\n",
    "Label_BOW[59:68] = 5\n",
    "Label_BOW[68:78] = 6\n",
    "Label_BOW[78:88] = 7\n",
    "Label_BOW[88:99] = 8\n",
    "Label_BOW = torch.Tensor(Label_BOW).long()\n",
    "Label_BOW = Variable(Label_BOW)\n",
    "\n",
    "L_BOW = sio.loadmat('L_mat_bow_data.mat')\n",
    "L_BOW = L_BOW.get('L')\n",
    "L_BOW = L_BOW.T\n",
    "L_BOW = torch.from_numpy(L_BOW).double()\n",
    "L_BOW = Variable(L_BOW)\n",
    "\n",
    "Y_BOW = sio.loadmat('Y_mat_bow_data.mat')\n",
    "Y_BOW = Y_BOW.get('Y')\n",
    "Y_BOW = Y_BOW.T\n",
    "Y_BOW = torch.from_numpy(Y_BOW).double()\n",
    "Y_BOW = Variable(Y_BOW)"
   ]
  },
  {
   "cell_type": "code",
   "execution_count": null,
   "metadata": {},
   "outputs": [],
   "source": []
  }
 ],
 "metadata": {
  "kernelspec": {
   "display_name": "Python 3",
   "language": "python",
   "name": "python3"
  },
  "language_info": {
   "codemirror_mode": {
    "name": "ipython",
    "version": 3
   },
   "file_extension": ".py",
   "mimetype": "text/x-python",
   "name": "python",
   "nbconvert_exporter": "python",
   "pygments_lexer": "ipython3",
   "version": "3.6.5"
  }
 },
 "nbformat": 4,
 "nbformat_minor": 2
}
