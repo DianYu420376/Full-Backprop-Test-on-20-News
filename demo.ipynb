{
 "cells": [
  {
   "cell_type": "code",
   "execution_count": 1,
   "metadata": {},
   "outputs": [],
   "source": [
    "# Date: 2018.07.22\n",
    "# Author: Runyu Zhang"
   ]
  },
  {
   "cell_type": "code",
   "execution_count": 2,
   "metadata": {},
   "outputs": [
    {
     "data": {
      "text/plain": [
       "\"\\nThis demo demonstrate how to train a one layer, unsupervised NMF and one layer, supervised NMF, and how to analyze and visualize the \\nresult.\\n\\nIn real implementation,  it might be helpful and of more flexibility to write your own training process \\ninstead of using the training functions in 'train.Ipynb'. This should not be too hard - you can simply\\nmake a few lines change in the functions in 'train.Ipynb' to create your own training function.\\n\""
      ]
     },
     "execution_count": 2,
     "metadata": {},
     "output_type": "execute_result"
    }
   ],
   "source": [
    "'''\n",
    "This demo demonstrate how to train a one layer, unsupervised NMF and one layer, supervised NMF, and how to analyze and visualize the \n",
    "result.\n",
    "\n",
    "In real implementation,  it might be helpful and of more flexibility to write your own training process \n",
    "instead of using the training functions in 'train.Ipynb'. This should not be too hard - you can simply\n",
    "make a few lines change in the functions in 'train.Ipynb' to create your own training function.\n",
    "'''"
   ]
  },
  {
   "cell_type": "code",
   "execution_count": 3,
   "metadata": {},
   "outputs": [
    {
     "name": "stdout",
     "output_type": "stream",
     "text": [
      "importing Jupyter notebook from deep_nmf.ipynb\n",
      "importing Jupyter notebook from lsqnonneg_module.ipynb\n",
      "importing Jupyter notebook from train.ipynb\n",
      "importing Jupyter notebook from writer.ipynb\n"
     ]
    }
   ],
   "source": [
    "# loading packages and functions\n",
    "import torch\n",
    "import numpy as np\n",
    "from matplotlib import pyplot as plt\n",
    "import Ipynb_importer\n",
    "from deep_nmf import Deep_NMF, Energy_Loss_Func\n",
    "from lsqnonneg_module import LsqNonneg\n",
    "from train import train_unsupervised, train_supervised\n",
    "#\n",
    "import torch.nn as nn\n",
    "from writer import Writer"
   ]
  },
  {
   "cell_type": "code",
   "execution_count": 4,
   "metadata": {},
   "outputs": [
    {
     "name": "stdout",
     "output_type": "stream",
     "text": [
      "importing Jupyter notebook from data_loading.ipynb\n"
     ]
    }
   ],
   "source": [
    "# data loading session\n",
    "from data_loading import X_BOW as X\n",
    "from data_loading import Label_BOW as label\n",
    "from data_loading import Y_BOW as Y\n",
    "from data_loading import L_BOW as L"
   ]
  },
  {
   "cell_type": "code",
   "execution_count": 5,
   "metadata": {},
   "outputs": [],
   "source": [
    "# set the network parameters\n",
    "m = X.shape[1]\n",
    "k1 = 20\n",
    "k2 = 15\n",
    "k3 = 10\n",
    "c = 9"
   ]
  },
  {
   "cell_type": "code",
   "execution_count": 267,
   "metadata": {
    "scrolled": true
   },
   "outputs": [
    {
     "name": "stdout",
     "output_type": "stream",
     "text": [
      "epoch =  10 \n",
      " tensor(177.3386, dtype=torch.float64)\n",
      "epoch =  20 \n",
      " tensor(176.9230, dtype=torch.float64)\n"
     ]
    },
    {
     "ename": "KeyboardInterrupt",
     "evalue": "",
     "output_type": "error",
     "traceback": [
      "\u001b[1;31m---------------------------------------------------------------------------\u001b[0m",
      "\u001b[1;31mKeyboardInterrupt\u001b[0m                         Traceback (most recent call last)",
      "\u001b[1;32m<ipython-input-267-745f247efa31>\u001b[0m in \u001b[0;36m<module>\u001b[1;34m()\u001b[0m\n\u001b[0;32m      3\u001b[0m \u001b[0mloss_func\u001b[0m \u001b[1;33m=\u001b[0m \u001b[0mEnergy_Loss_Func\u001b[0m\u001b[1;33m(\u001b[0m\u001b[1;33m)\u001b[0m\u001b[1;33m\u001b[0m\u001b[0m\n\u001b[0;32m      4\u001b[0m \u001b[0mX_input\u001b[0m \u001b[1;33m=\u001b[0m \u001b[0mX\u001b[0m\u001b[1;33m*\u001b[0m\u001b[1;36m1000\u001b[0m\u001b[1;33m\u001b[0m\u001b[0m\n\u001b[1;32m----> 5\u001b[1;33m \u001b[0mhistory_unsupervised\u001b[0m \u001b[1;33m=\u001b[0m \u001b[0mtrain_unsupervised\u001b[0m\u001b[1;33m(\u001b[0m\u001b[0mnet\u001b[0m\u001b[1;33m,\u001b[0m \u001b[0mX_input\u001b[0m\u001b[1;33m,\u001b[0m \u001b[0mloss_func\u001b[0m\u001b[1;33m,\u001b[0m \u001b[0mepoch\u001b[0m \u001b[1;33m=\u001b[0m \u001b[1;36m200\u001b[0m\u001b[1;33m,\u001b[0m \u001b[0mlr\u001b[0m \u001b[1;33m=\u001b[0m \u001b[1;36m1000\u001b[0m\u001b[1;33m)\u001b[0m\u001b[1;33m\u001b[0m\u001b[0m\n\u001b[0m",
      "\u001b[1;32m~\\Dropbox\\Deep NMF\\Code\\Cathy Code\\Full Backprop Package\\train.ipynb\u001b[0m in \u001b[0;36mtrain_unsupervised\u001b[1;34m(net, X, loss_func, epoch, lr, weight_decay)\u001b[0m\n",
      "\u001b[1;32mC:\\Anaconda3\\lib\\site-packages\\torch\\nn\\modules\\module.py\u001b[0m in \u001b[0;36m__call__\u001b[1;34m(self, *input, **kwargs)\u001b[0m\n\u001b[0;32m    489\u001b[0m             \u001b[0mresult\u001b[0m \u001b[1;33m=\u001b[0m \u001b[0mself\u001b[0m\u001b[1;33m.\u001b[0m\u001b[0m_slow_forward\u001b[0m\u001b[1;33m(\u001b[0m\u001b[1;33m*\u001b[0m\u001b[0minput\u001b[0m\u001b[1;33m,\u001b[0m \u001b[1;33m**\u001b[0m\u001b[0mkwargs\u001b[0m\u001b[1;33m)\u001b[0m\u001b[1;33m\u001b[0m\u001b[0m\n\u001b[0;32m    490\u001b[0m         \u001b[1;32melse\u001b[0m\u001b[1;33m:\u001b[0m\u001b[1;33m\u001b[0m\u001b[0m\n\u001b[1;32m--> 491\u001b[1;33m             \u001b[0mresult\u001b[0m \u001b[1;33m=\u001b[0m \u001b[0mself\u001b[0m\u001b[1;33m.\u001b[0m\u001b[0mforward\u001b[0m\u001b[1;33m(\u001b[0m\u001b[1;33m*\u001b[0m\u001b[0minput\u001b[0m\u001b[1;33m,\u001b[0m \u001b[1;33m**\u001b[0m\u001b[0mkwargs\u001b[0m\u001b[1;33m)\u001b[0m\u001b[1;33m\u001b[0m\u001b[0m\n\u001b[0m\u001b[0;32m    492\u001b[0m         \u001b[1;32mfor\u001b[0m \u001b[0mhook\u001b[0m \u001b[1;32min\u001b[0m \u001b[0mself\u001b[0m\u001b[1;33m.\u001b[0m\u001b[0m_forward_hooks\u001b[0m\u001b[1;33m.\u001b[0m\u001b[0mvalues\u001b[0m\u001b[1;33m(\u001b[0m\u001b[1;33m)\u001b[0m\u001b[1;33m:\u001b[0m\u001b[1;33m\u001b[0m\u001b[0m\n\u001b[0;32m    493\u001b[0m             \u001b[0mhook_result\u001b[0m \u001b[1;33m=\u001b[0m \u001b[0mhook\u001b[0m\u001b[1;33m(\u001b[0m\u001b[0mself\u001b[0m\u001b[1;33m,\u001b[0m \u001b[0minput\u001b[0m\u001b[1;33m,\u001b[0m \u001b[0mresult\u001b[0m\u001b[1;33m)\u001b[0m\u001b[1;33m\u001b[0m\u001b[0m\n",
      "\u001b[1;32m~\\Dropbox\\Deep NMF\\Code\\Cathy Code\\Full Backprop Package\\deep_nmf.ipynb\u001b[0m in \u001b[0;36mforward\u001b[1;34m(self, X)\u001b[0m\n",
      "\u001b[1;32mC:\\Anaconda3\\lib\\site-packages\\torch\\nn\\modules\\module.py\u001b[0m in \u001b[0;36m__call__\u001b[1;34m(self, *input, **kwargs)\u001b[0m\n\u001b[0;32m    489\u001b[0m             \u001b[0mresult\u001b[0m \u001b[1;33m=\u001b[0m \u001b[0mself\u001b[0m\u001b[1;33m.\u001b[0m\u001b[0m_slow_forward\u001b[0m\u001b[1;33m(\u001b[0m\u001b[1;33m*\u001b[0m\u001b[0minput\u001b[0m\u001b[1;33m,\u001b[0m \u001b[1;33m**\u001b[0m\u001b[0mkwargs\u001b[0m\u001b[1;33m)\u001b[0m\u001b[1;33m\u001b[0m\u001b[0m\n\u001b[0;32m    490\u001b[0m         \u001b[1;32melse\u001b[0m\u001b[1;33m:\u001b[0m\u001b[1;33m\u001b[0m\u001b[0m\n\u001b[1;32m--> 491\u001b[1;33m             \u001b[0mresult\u001b[0m \u001b[1;33m=\u001b[0m \u001b[0mself\u001b[0m\u001b[1;33m.\u001b[0m\u001b[0mforward\u001b[0m\u001b[1;33m(\u001b[0m\u001b[1;33m*\u001b[0m\u001b[0minput\u001b[0m\u001b[1;33m,\u001b[0m \u001b[1;33m**\u001b[0m\u001b[0mkwargs\u001b[0m\u001b[1;33m)\u001b[0m\u001b[1;33m\u001b[0m\u001b[0m\n\u001b[0m\u001b[0;32m    492\u001b[0m         \u001b[1;32mfor\u001b[0m \u001b[0mhook\u001b[0m \u001b[1;32min\u001b[0m \u001b[0mself\u001b[0m\u001b[1;33m.\u001b[0m\u001b[0m_forward_hooks\u001b[0m\u001b[1;33m.\u001b[0m\u001b[0mvalues\u001b[0m\u001b[1;33m(\u001b[0m\u001b[1;33m)\u001b[0m\u001b[1;33m:\u001b[0m\u001b[1;33m\u001b[0m\u001b[0m\n\u001b[0;32m    493\u001b[0m             \u001b[0mhook_result\u001b[0m \u001b[1;33m=\u001b[0m \u001b[0mhook\u001b[0m\u001b[1;33m(\u001b[0m\u001b[0mself\u001b[0m\u001b[1;33m,\u001b[0m \u001b[0minput\u001b[0m\u001b[1;33m,\u001b[0m \u001b[0mresult\u001b[0m\u001b[1;33m)\u001b[0m\u001b[1;33m\u001b[0m\u001b[0m\n",
      "\u001b[1;32m~\\Dropbox\\Deep NMF\\Code\\Cathy Code\\Full Backprop Package\\lsqnonneg_module.ipynb\u001b[0m in \u001b[0;36mforward\u001b[1;34m(self, input)\u001b[0m\n",
      "\u001b[1;32m~\\Dropbox\\Deep NMF\\Code\\Cathy Code\\Full Backprop Package\\lsqnonneg_module.ipynb\u001b[0m in \u001b[0;36mforward\u001b[1;34m(ctx, input, A)\u001b[0m\n",
      "\u001b[1;32m~\\Dropbox\\Deep NMF\\Code\\Cathy Code\\Full Backprop Package\\lsqnonneg_module.ipynb\u001b[0m in \u001b[0;36mlsqnonneg_tensor_version\u001b[1;34m(C, D)\u001b[0m\n",
      "\u001b[1;32mC:\\Anaconda3\\lib\\site-packages\\scipy\\optimize\\nnls.py\u001b[0m in \u001b[0;36mnnls\u001b[1;34m(A, b, maxiter)\u001b[0m\n\u001b[0;32m     41\u001b[0m     \"\"\"\n\u001b[0;32m     42\u001b[0m \u001b[1;33m\u001b[0m\u001b[0m\n\u001b[1;32m---> 43\u001b[1;33m     \u001b[0mA\u001b[0m\u001b[1;33m,\u001b[0m \u001b[0mb\u001b[0m \u001b[1;33m=\u001b[0m \u001b[0mmap\u001b[0m\u001b[1;33m(\u001b[0m\u001b[0masarray_chkfinite\u001b[0m\u001b[1;33m,\u001b[0m \u001b[1;33m(\u001b[0m\u001b[0mA\u001b[0m\u001b[1;33m,\u001b[0m \u001b[0mb\u001b[0m\u001b[1;33m)\u001b[0m\u001b[1;33m)\u001b[0m\u001b[1;33m\u001b[0m\u001b[0m\n\u001b[0m\u001b[0;32m     44\u001b[0m \u001b[1;33m\u001b[0m\u001b[0m\n\u001b[0;32m     45\u001b[0m     \u001b[1;32mif\u001b[0m \u001b[0mlen\u001b[0m\u001b[1;33m(\u001b[0m\u001b[0mA\u001b[0m\u001b[1;33m.\u001b[0m\u001b[0mshape\u001b[0m\u001b[1;33m)\u001b[0m \u001b[1;33m!=\u001b[0m \u001b[1;36m2\u001b[0m\u001b[1;33m:\u001b[0m\u001b[1;33m\u001b[0m\u001b[0m\n",
      "\u001b[1;32mC:\\Anaconda3\\lib\\site-packages\\numpy\\lib\\function_base.py\u001b[0m in \u001b[0;36masarray_chkfinite\u001b[1;34m(a, dtype, order)\u001b[0m\n\u001b[0;32m   1229\u001b[0m     \"\"\"\n\u001b[0;32m   1230\u001b[0m     \u001b[0ma\u001b[0m \u001b[1;33m=\u001b[0m \u001b[0masarray\u001b[0m\u001b[1;33m(\u001b[0m\u001b[0ma\u001b[0m\u001b[1;33m,\u001b[0m \u001b[0mdtype\u001b[0m\u001b[1;33m=\u001b[0m\u001b[0mdtype\u001b[0m\u001b[1;33m,\u001b[0m \u001b[0morder\u001b[0m\u001b[1;33m=\u001b[0m\u001b[0morder\u001b[0m\u001b[1;33m)\u001b[0m\u001b[1;33m\u001b[0m\u001b[0m\n\u001b[1;32m-> 1231\u001b[1;33m     \u001b[1;32mif\u001b[0m \u001b[0ma\u001b[0m\u001b[1;33m.\u001b[0m\u001b[0mdtype\u001b[0m\u001b[1;33m.\u001b[0m\u001b[0mchar\u001b[0m \u001b[1;32min\u001b[0m \u001b[0mtypecodes\u001b[0m\u001b[1;33m[\u001b[0m\u001b[1;34m'AllFloat'\u001b[0m\u001b[1;33m]\u001b[0m \u001b[1;32mand\u001b[0m \u001b[1;32mnot\u001b[0m \u001b[0mnp\u001b[0m\u001b[1;33m.\u001b[0m\u001b[0misfinite\u001b[0m\u001b[1;33m(\u001b[0m\u001b[0ma\u001b[0m\u001b[1;33m)\u001b[0m\u001b[1;33m.\u001b[0m\u001b[0mall\u001b[0m\u001b[1;33m(\u001b[0m\u001b[1;33m)\u001b[0m\u001b[1;33m:\u001b[0m\u001b[1;33m\u001b[0m\u001b[0m\n\u001b[0m\u001b[0;32m   1232\u001b[0m         raise ValueError(\n\u001b[0;32m   1233\u001b[0m             \"array must not contain infs or NaNs\")\n",
      "\u001b[1;31mKeyboardInterrupt\u001b[0m: "
     ]
    }
   ],
   "source": [
    "# unsupervised case,one layer\n",
    "net = Deep_NMF([m, 9])\n",
    "loss_func = Energy_Loss_Func()\n",
    "X_input = X*1000\n",
    "history_unsupervised = train_unsupervised(net, X_input, loss_func, epoch = 200, lr = 1000)"
   ]
  },
  {
   "cell_type": "code",
   "execution_count": 160,
   "metadata": {},
   "outputs": [],
   "source": [
    "# by calling history_unsupervised.get('variable_name'), you can get the variables that you recorded in the writer\n",
    "# getting these results might be helpful for debugging and choosing hyperparameters\n",
    "A1_lst = history_unsupervised.get('A1')\n",
    "S1_lst = history_unsupervised.get('S1')\n",
    "grad_A1_lst = history_unsupervised.get('grad_A1')"
   ]
  },
  {
   "cell_type": "code",
   "execution_count": 161,
   "metadata": {
    "collapsed": true
   },
   "outputs": [
    {
     "data": {
      "image/png": "[encoded data removed]",
      "text/plain": [
       "<Figure size 432x288 with 1 Axes>"
      ]
     },
     "metadata": {},
     "output_type": "display_data"
    },
    {
     "data": {
      "image/png": "[encoded data removed]",
      "text/plain": [
       "<Figure size 1080x7560 with 1 Axes>"
      ]
     },
     "metadata": {},
     "output_type": "display_data"
    }
   ],
   "source": [
    "# plot the loss curve\n",
    "history_unsupervised.plot_scalar('loss')\n",
    "# plot the heatmap for S1\n",
    "history_unsupervised.plot_tensor('S1', [-1])"
   ]
  },
  {
   "cell_type": "code",
   "execution_count": 49,
   "metadata": {},
   "outputs": [
    {
     "data": {
      "text/plain": [
       "\"\\nThe following code demonstrate the process of training a supervised one-layer NMF.\\n\\nThe training for supervised NMF is a little bit tricky here, I am not sure if this is the best way to do this. Here I am using\\ndifferent learning rate for the NMF layer(lsqnonneg layer) and the classification layer. What's more, in the same epoch, the\\nNMF layer and the classification layer are trained separately, the NMF will do one gradient update in one epoch, and the\\nclassification layer will do thirty. See more detail in the function 'train_supervised' in 'train.Ipynb'\\n\""
      ]
     },
     "execution_count": 49,
     "metadata": {},
     "output_type": "execute_result"
    }
   ],
   "source": [
    "'''\n",
    "The following code demonstrate the process of training a supervised one-layer NMF.\n",
    "\n",
    "The training for supervised NMF is a little bit tricky here, I am not sure if this is the best way to do this. Here I am using\n",
    "different learning rate for the NMF layer(lsqnonneg layer) and the classification layer. What's more, in the same epoch, the\n",
    "NMF layer and the classification layer are trained separately, the NMF will do one gradient update in one epoch, and the\n",
    "classification layer will do thirty. See more detail in the function 'train_supervised' in 'train.Ipynb'\n",
    "'''"
   ]
  },
  {
   "cell_type": "code",
   "execution_count": 12,
   "metadata": {},
   "outputs": [
    {
     "name": "stdout",
     "output_type": "stream",
     "text": [
      "epoch =  1 \n",
      " tensor(2732.4452, dtype=torch.float64)\n",
      "epoch =  2 \n",
      " tensor(2052.2004, dtype=torch.float64)\n",
      "epoch =  3 \n",
      " tensor(1878.3530, dtype=torch.float64)\n",
      "epoch =  4 \n",
      " tensor(1736.6712, dtype=torch.float64)\n",
      "epoch =  5 \n",
      " tensor(1667.4902, dtype=torch.float64)\n",
      "epoch =  6 \n",
      " tensor(1619.2050, dtype=torch.float64)\n",
      "epoch =  7 \n",
      " tensor(1581.0884, dtype=torch.float64)\n",
      "epoch =  8 \n",
      " tensor(1547.2746, dtype=torch.float64)\n",
      "epoch =  9 \n",
      " tensor(1514.8750, dtype=torch.float64)\n",
      "epoch =  10 \n",
      " tensor(1480.4264, dtype=torch.float64)\n",
      "epoch =  11 \n",
      " tensor(1437.7029, dtype=torch.float64)\n",
      "epoch =  12 \n",
      " tensor(1372.2653, dtype=torch.float64)\n",
      "epoch =  13 \n",
      " tensor(1259.7785, dtype=torch.float64)\n",
      "epoch =  14 \n",
      " tensor(1078.8656, dtype=torch.float64)\n",
      "epoch =  15 \n",
      " tensor(902.8130, dtype=torch.float64)\n",
      "epoch =  16 \n",
      " tensor(833.0851, dtype=torch.float64)\n",
      "epoch =  17 \n",
      " tensor(873.9664, dtype=torch.float64)\n",
      "epoch =  18 \n",
      " tensor(960.6563, dtype=torch.float64)\n",
      "epoch =  19 \n",
      " tensor(819.8213, dtype=torch.float64)\n",
      "epoch =  20 \n",
      " tensor(766.1048, dtype=torch.float64)\n",
      "epoch =  21 \n",
      " tensor(743.6022, dtype=torch.float64)\n",
      "epoch =  22 \n",
      " tensor(731.3830, dtype=torch.float64)\n",
      "epoch =  23 \n",
      " tensor(722.6588, dtype=torch.float64)\n",
      "epoch =  24 \n",
      " tensor(715.7690, dtype=torch.float64)\n",
      "epoch =  25 \n",
      " tensor(709.6862, dtype=torch.float64)\n",
      "epoch =  26 \n",
      " tensor(704.4073, dtype=torch.float64)\n",
      "epoch =  27 \n",
      " tensor(699.5403, dtype=torch.float64)\n",
      "epoch =  28 \n",
      " tensor(695.1765, dtype=torch.float64)\n",
      "epoch =  29 \n",
      " tensor(690.0280, dtype=torch.float64)\n",
      "epoch =  30 \n",
      " tensor(686.0991, dtype=torch.float64)\n",
      "epoch =  31 \n",
      " tensor(682.8618, dtype=torch.float64)\n",
      "epoch =  32 \n",
      " tensor(681.3082, dtype=torch.float64)\n",
      "epoch =  33 \n",
      " tensor(682.8310, dtype=torch.float64)\n",
      "epoch =  34 \n",
      " tensor(691.6032, dtype=torch.float64)\n",
      "epoch =  35 \n",
      " tensor(714.0621, dtype=torch.float64)\n",
      "epoch =  36 \n",
      " tensor(743.6299, dtype=torch.float64)\n",
      "epoch =  37 \n",
      " tensor(736.8481, dtype=torch.float64)\n",
      "epoch =  38 \n",
      " tensor(708.8696, dtype=torch.float64)\n",
      "epoch =  39 \n",
      " tensor(685.9037, dtype=torch.float64)\n",
      "epoch =  40 \n",
      " tensor(673.2528, dtype=torch.float64)\n",
      "epoch =  41 \n",
      " tensor(665.0863, dtype=torch.float64)\n",
      "epoch =  42 \n",
      " tensor(660.0075, dtype=torch.float64)\n",
      "epoch =  43 \n",
      " tensor(656.1071, dtype=torch.float64)\n",
      "epoch =  44 \n",
      " tensor(653.0280, dtype=torch.float64)\n",
      "epoch =  45 \n",
      " tensor(650.7757, dtype=torch.float64)\n",
      "epoch =  46 \n",
      " tensor(649.8270, dtype=torch.float64)\n",
      "epoch =  47 \n",
      " tensor(650.7149, dtype=torch.float64)\n",
      "epoch =  48 \n",
      " tensor(654.8680, dtype=torch.float64)\n",
      "epoch =  49 \n",
      " tensor(662.5667, dtype=torch.float64)\n",
      "epoch =  50 \n",
      " tensor(676.6485, dtype=torch.float64)\n",
      "epoch =  51 \n",
      " tensor(687.2611, dtype=torch.float64)\n",
      "epoch =  52 \n",
      " tensor(691.6123, dtype=torch.float64)\n",
      "epoch =  53 \n",
      " tensor(680.9113, dtype=torch.float64)\n",
      "epoch =  54 \n",
      " tensor(667.8392, dtype=torch.float64)\n",
      "epoch =  55 \n",
      " tensor(656.6973, dtype=torch.float64)\n",
      "epoch =  56 \n",
      " tensor(649.9792, dtype=torch.float64)\n",
      "epoch =  57 \n",
      " tensor(644.4179, dtype=torch.float64)\n",
      "epoch =  58 \n",
      " tensor(640.7035, dtype=torch.float64)\n",
      "epoch =  59 \n",
      " tensor(638.7427, dtype=torch.float64)\n",
      "epoch =  60 \n",
      " tensor(638.1350, dtype=torch.float64)\n",
      "epoch =  61 \n",
      " tensor(638.9788, dtype=torch.float64)\n",
      "epoch =  62 \n",
      " tensor(641.9504, dtype=torch.float64)\n",
      "epoch =  63 \n",
      " tensor(645.4078, dtype=torch.float64)\n",
      "epoch =  64 \n",
      " tensor(651.8642, dtype=torch.float64)\n",
      "epoch =  65 \n",
      " tensor(654.9215, dtype=torch.float64)\n",
      "epoch =  66 \n",
      " tensor(657.8655, dtype=torch.float64)\n",
      "epoch =  67 \n",
      " tensor(654.0426, dtype=torch.float64)\n",
      "epoch =  68 \n",
      " tensor(650.6925, dtype=torch.float64)\n",
      "epoch =  69 \n",
      " tensor(644.5191, dtype=torch.float64)\n",
      "epoch =  70 \n",
      " tensor(640.8132, dtype=torch.float64)\n",
      "epoch =  71 \n",
      " tensor(636.7043, dtype=torch.float64)\n",
      "epoch =  72 \n",
      " tensor(634.5524, dtype=torch.float64)\n",
      "epoch =  73 \n",
      " tensor(632.2864, dtype=torch.float64)\n",
      "epoch =  74 \n",
      " tensor(632.0938, dtype=torch.float64)\n",
      "epoch =  75 \n",
      " tensor(631.4470, dtype=torch.float64)\n",
      "epoch =  76 \n",
      " tensor(633.2192, dtype=torch.float64)\n",
      "epoch =  77 \n",
      " tensor(633.8059, dtype=torch.float64)\n",
      "epoch =  78 \n",
      " tensor(636.5318, dtype=torch.float64)\n",
      "epoch =  79 \n",
      " tensor(637.1675, dtype=torch.float64)\n",
      "epoch =  80 \n",
      " tensor(639.0167, dtype=torch.float64)\n",
      "epoch =  81 \n",
      " tensor(637.3029, dtype=torch.float64)\n",
      "epoch =  82 \n",
      " tensor(638.4516, dtype=torch.float64)\n",
      "epoch =  83 \n",
      " tensor(635.9810, dtype=torch.float64)\n",
      "epoch =  84 \n",
      " tensor(634.5053, dtype=torch.float64)\n",
      "epoch =  85 \n",
      " tensor(630.8445, dtype=torch.float64)\n",
      "epoch =  86 \n",
      " tensor(629.7065, dtype=torch.float64)\n",
      "epoch =  87 \n",
      " tensor(627.0541, dtype=torch.float64)\n",
      "epoch =  88 \n",
      " tensor(626.7140, dtype=torch.float64)\n",
      "epoch =  89 \n",
      " tensor(624.7603, dtype=torch.float64)\n",
      "epoch =  90 \n",
      " tensor(625.6424, dtype=torch.float64)\n",
      "epoch =  91 \n",
      " tensor(624.6105, dtype=torch.float64)\n",
      "epoch =  92 \n",
      " tensor(626.5118, dtype=torch.float64)\n",
      "epoch =  93 \n",
      " tensor(625.7613, dtype=torch.float64)\n",
      "epoch =  94 \n",
      " tensor(628.2674, dtype=torch.float64)\n",
      "epoch =  95 \n",
      " tensor(627.2886, dtype=torch.float64)\n",
      "epoch =  96 \n",
      " tensor(629.3047, dtype=torch.float64)\n",
      "epoch =  97 \n",
      " tensor(627.3751, dtype=torch.float64)\n",
      "epoch =  98 \n",
      " tensor(628.2636, dtype=torch.float64)\n",
      "epoch =  99 \n",
      " tensor(625.3826, dtype=torch.float64)\n",
      "epoch =  100 \n",
      " tensor(625.4978, dtype=torch.float64)\n"
     ]
    }
   ],
   "source": [
    "# supervised case\n",
    "net = Deep_NMF([m, 9], 9)\n",
    "net.linear.weight.data = 1e-3*torch.randn(9,9,dtype = torch.double)\n",
    "loss_func = Energy_Loss_Func(lambd = 100000,classification_type = 'L2')\n",
    "X_input = X*1000\n",
    "history_supervised = train_supervised(net, X_input, loss_func, Y, epoch = 100, lr_nmf = 5000, lr_classification = 0.01, weight_decay = 1)"
   ]
  },
  {
   "cell_type": "code",
   "execution_count": 13,
   "metadata": {},
   "outputs": [
    {
     "data": {
      "image/png": "[encoded data removed]",
      "text/plain": [
       "<Figure size 432x288 with 1 Axes>"
      ]
     },
     "metadata": {},
     "output_type": "display_data"
    },
    {
     "data": {
      "image/png": "[encoded data removed]",
      "text/plain": [
       "<Figure size 1080x7560 with 1 Axes>"
      ]
     },
     "metadata": {},
     "output_type": "display_data"
    }
   ],
   "source": [
    "# plotting the loss curve\n",
    "history_supervised.plot_scalar('loss')\n",
    "# plotting the heatmap of S1\n",
    "history_supervised.plot_tensor('S1', [-1])\n",
    "# getting the history for different varialbes\n",
    "A1_lst = history_supervised.get('A1')\n",
    "S1_lst = history_supervised.get('S1')\n",
    "grad_A1_lst = history_supervised.get('grad_A1')\n",
    "B_lst = history_supervised.get('weight')\n",
    "grad_B_lst = history_supervised.get('grad_weight')"
   ]
  },
  {
   "cell_type": "code",
   "execution_count": 14,
   "metadata": {},
   "outputs": [
    {
     "data": {
      "text/plain": [
       "tensor([ 0,  0,  0,  0,  0,  0,  0,  0,  0,  0,  0,  0,  0,  0,\n",
       "         0,  0,  0,  0,  0,  0,  0,  0,  0,  0,  0,  1,  0,  0,\n",
       "         0,  0,  0,  0,  0,  0,  1,  0,  0,  0,  0,  0,  0,  0,\n",
       "         0,  0,  0,  0,  0,  0,  0,  0,  0,  0,  0,  0,  0,  0,\n",
       "         0,  0,  0,  0,  0,  1,  0,  0,  1,  0,  0,  0,  0,  0,\n",
       "         0,  0,  0,  0,  0,  0,  0,  0,  0,  0,  0,  0,  0,  0,\n",
       "         0,  0,  0,  0,  0,  0,  0,  0,  0,  0,  0,  0,  0,  0], dtype=torch.uint8)"
      ]
     },
     "execution_count": 14,
     "metadata": {},
     "output_type": "execute_result"
    }
   ],
   "source": [
    "S_lst, pred = net(X)\n",
    "torch.argmax(pred, dim = 1) != label"
   ]
  },
  {
   "cell_type": "code",
   "execution_count": 15,
   "metadata": {
    "scrolled": true
   },
   "outputs": [
    {
     "data": {
      "image/png": "[encoded data removed]",
      "text/plain": [
       "<Figure size 432x288 with 1 Axes>"
      ]
     },
     "metadata": {},
     "output_type": "display_data"
    }
   ],
   "source": [
    "plt.imshow(net.linear.weight.data)\n",
    "plt.show()"
   ]
  },
  {
   "cell_type": "code",
   "execution_count": 11,
   "metadata": {},
   "outputs": [],
   "source": [
    "m = X.shape[1]\n",
    "n = X.shape[0]\n",
    "k = 9\n",
    "net = Deep_NMF([m,9])\n",
    "loss_func = Energy_Loss_Func()\n",
    "X_input = 1000*X"
   ]
  },
  {
   "cell_type": "code",
   "execution_count": 205,
   "metadata": {
    "scrolled": true
   },
   "outputs": [
    {
     "name": "stdout",
     "output_type": "stream",
     "text": [
      "epoch =  10 \n",
      " tensor(139.1894, dtype=torch.float64)\n",
      "epoch =  20 \n",
      " tensor(136.7749, dtype=torch.float64)\n",
      "epoch =  30 \n",
      " tensor(136.5464, dtype=torch.float64)\n",
      "epoch =  40 \n",
      " tensor(136.4583, dtype=torch.float64)\n",
      "epoch =  50 \n",
      " tensor(136.3804, dtype=torch.float64)\n",
      "epoch =  60 \n",
      " tensor(136.2334, dtype=torch.float64)\n",
      "epoch =  70 \n",
      " tensor(136.1693, dtype=torch.float64)\n",
      "epoch =  80 \n",
      " tensor(136.1667, dtype=torch.float64)\n",
      "epoch =  90 \n",
      " tensor(136.1666, dtype=torch.float64)\n",
      "epoch =  100 \n",
      " tensor(136.1666, dtype=torch.float64)\n",
      "epoch =  110 \n",
      " tensor(136.1666, dtype=torch.float64)\n",
      "epoch =  120 \n",
      " tensor(136.1666, dtype=torch.float64)\n"
     ]
    },
    {
     "ename": "KeyboardInterrupt",
     "evalue": "",
     "output_type": "error",
     "traceback": [
      "\u001b[1;31m---------------------------------------------------------------------------\u001b[0m",
      "\u001b[1;31mKeyboardInterrupt\u001b[0m                         Traceback (most recent call last)",
      "\u001b[1;32m<ipython-input-205-ebb6d0d9f7d2>\u001b[0m in \u001b[0;36m<module>\u001b[1;34m()\u001b[0m\n\u001b[0;32m      6\u001b[0m \u001b[1;32mfor\u001b[0m \u001b[0mi\u001b[0m \u001b[1;32min\u001b[0m \u001b[0mrange\u001b[0m\u001b[1;33m(\u001b[0m\u001b[0mepoch\u001b[0m\u001b[1;33m)\u001b[0m\u001b[1;33m:\u001b[0m\u001b[1;33m\u001b[0m\u001b[0m\n\u001b[0;32m      7\u001b[0m     \u001b[0mnet\u001b[0m\u001b[1;33m.\u001b[0m\u001b[0mzero_grad\u001b[0m\u001b[1;33m(\u001b[0m\u001b[1;33m)\u001b[0m\u001b[1;33m\u001b[0m\u001b[0m\n\u001b[1;32m----> 8\u001b[1;33m     \u001b[0mS_lst\u001b[0m \u001b[1;33m=\u001b[0m \u001b[0mnet\u001b[0m\u001b[1;33m(\u001b[0m\u001b[0mX_input\u001b[0m\u001b[1;33m)\u001b[0m\u001b[1;33m\u001b[0m\u001b[0m\n\u001b[0m\u001b[0;32m      9\u001b[0m     \u001b[0mloss\u001b[0m \u001b[1;33m=\u001b[0m \u001b[0mloss_func\u001b[0m\u001b[1;33m(\u001b[0m\u001b[0mnet\u001b[0m\u001b[1;33m,\u001b[0m \u001b[0mX_input\u001b[0m\u001b[1;33m,\u001b[0m \u001b[0mS_lst\u001b[0m\u001b[1;33m)\u001b[0m\u001b[1;33m\u001b[0m\u001b[0m\n\u001b[0;32m     10\u001b[0m     \u001b[0mloss\u001b[0m\u001b[1;33m.\u001b[0m\u001b[0mbackward\u001b[0m\u001b[1;33m(\u001b[0m\u001b[1;33m)\u001b[0m\u001b[1;33m\u001b[0m\u001b[0m\n",
      "\u001b[1;32mC:\\Anaconda3\\lib\\site-packages\\torch\\nn\\modules\\module.py\u001b[0m in \u001b[0;36m__call__\u001b[1;34m(self, *input, **kwargs)\u001b[0m\n\u001b[0;32m    489\u001b[0m             \u001b[0mresult\u001b[0m \u001b[1;33m=\u001b[0m \u001b[0mself\u001b[0m\u001b[1;33m.\u001b[0m\u001b[0m_slow_forward\u001b[0m\u001b[1;33m(\u001b[0m\u001b[1;33m*\u001b[0m\u001b[0minput\u001b[0m\u001b[1;33m,\u001b[0m \u001b[1;33m**\u001b[0m\u001b[0mkwargs\u001b[0m\u001b[1;33m)\u001b[0m\u001b[1;33m\u001b[0m\u001b[0m\n\u001b[0;32m    490\u001b[0m         \u001b[1;32melse\u001b[0m\u001b[1;33m:\u001b[0m\u001b[1;33m\u001b[0m\u001b[0m\n\u001b[1;32m--> 491\u001b[1;33m             \u001b[0mresult\u001b[0m \u001b[1;33m=\u001b[0m \u001b[0mself\u001b[0m\u001b[1;33m.\u001b[0m\u001b[0mforward\u001b[0m\u001b[1;33m(\u001b[0m\u001b[1;33m*\u001b[0m\u001b[0minput\u001b[0m\u001b[1;33m,\u001b[0m \u001b[1;33m**\u001b[0m\u001b[0mkwargs\u001b[0m\u001b[1;33m)\u001b[0m\u001b[1;33m\u001b[0m\u001b[0m\n\u001b[0m\u001b[0;32m    492\u001b[0m         \u001b[1;32mfor\u001b[0m \u001b[0mhook\u001b[0m \u001b[1;32min\u001b[0m \u001b[0mself\u001b[0m\u001b[1;33m.\u001b[0m\u001b[0m_forward_hooks\u001b[0m\u001b[1;33m.\u001b[0m\u001b[0mvalues\u001b[0m\u001b[1;33m(\u001b[0m\u001b[1;33m)\u001b[0m\u001b[1;33m:\u001b[0m\u001b[1;33m\u001b[0m\u001b[0m\n\u001b[0;32m    493\u001b[0m             \u001b[0mhook_result\u001b[0m \u001b[1;33m=\u001b[0m \u001b[0mhook\u001b[0m\u001b[1;33m(\u001b[0m\u001b[0mself\u001b[0m\u001b[1;33m,\u001b[0m \u001b[0minput\u001b[0m\u001b[1;33m,\u001b[0m \u001b[0mresult\u001b[0m\u001b[1;33m)\u001b[0m\u001b[1;33m\u001b[0m\u001b[0m\n",
      "\u001b[1;32m~\\Dropbox\\Deep NMF\\Code\\Cathy Code\\Full Backprop Package\\deep_nmf.ipynb\u001b[0m in \u001b[0;36mforward\u001b[1;34m(self, X)\u001b[0m\n",
      "\u001b[1;32mC:\\Anaconda3\\lib\\site-packages\\torch\\nn\\modules\\module.py\u001b[0m in \u001b[0;36m__call__\u001b[1;34m(self, *input, **kwargs)\u001b[0m\n\u001b[0;32m    489\u001b[0m             \u001b[0mresult\u001b[0m \u001b[1;33m=\u001b[0m \u001b[0mself\u001b[0m\u001b[1;33m.\u001b[0m\u001b[0m_slow_forward\u001b[0m\u001b[1;33m(\u001b[0m\u001b[1;33m*\u001b[0m\u001b[0minput\u001b[0m\u001b[1;33m,\u001b[0m \u001b[1;33m**\u001b[0m\u001b[0mkwargs\u001b[0m\u001b[1;33m)\u001b[0m\u001b[1;33m\u001b[0m\u001b[0m\n\u001b[0;32m    490\u001b[0m         \u001b[1;32melse\u001b[0m\u001b[1;33m:\u001b[0m\u001b[1;33m\u001b[0m\u001b[0m\n\u001b[1;32m--> 491\u001b[1;33m             \u001b[0mresult\u001b[0m \u001b[1;33m=\u001b[0m \u001b[0mself\u001b[0m\u001b[1;33m.\u001b[0m\u001b[0mforward\u001b[0m\u001b[1;33m(\u001b[0m\u001b[1;33m*\u001b[0m\u001b[0minput\u001b[0m\u001b[1;33m,\u001b[0m \u001b[1;33m**\u001b[0m\u001b[0mkwargs\u001b[0m\u001b[1;33m)\u001b[0m\u001b[1;33m\u001b[0m\u001b[0m\n\u001b[0m\u001b[0;32m    492\u001b[0m         \u001b[1;32mfor\u001b[0m \u001b[0mhook\u001b[0m \u001b[1;32min\u001b[0m \u001b[0mself\u001b[0m\u001b[1;33m.\u001b[0m\u001b[0m_forward_hooks\u001b[0m\u001b[1;33m.\u001b[0m\u001b[0mvalues\u001b[0m\u001b[1;33m(\u001b[0m\u001b[1;33m)\u001b[0m\u001b[1;33m:\u001b[0m\u001b[1;33m\u001b[0m\u001b[0m\n\u001b[0;32m    493\u001b[0m             \u001b[0mhook_result\u001b[0m \u001b[1;33m=\u001b[0m \u001b[0mhook\u001b[0m\u001b[1;33m(\u001b[0m\u001b[0mself\u001b[0m\u001b[1;33m,\u001b[0m \u001b[0minput\u001b[0m\u001b[1;33m,\u001b[0m \u001b[0mresult\u001b[0m\u001b[1;33m)\u001b[0m\u001b[1;33m\u001b[0m\u001b[0m\n",
      "\u001b[1;32m~\\Dropbox\\Deep NMF\\Code\\Cathy Code\\Full Backprop Package\\lsqnonneg_module.ipynb\u001b[0m in \u001b[0;36mforward\u001b[1;34m(self, input)\u001b[0m\n",
      "\u001b[1;32m~\\Dropbox\\Deep NMF\\Code\\Cathy Code\\Full Backprop Package\\lsqnonneg_module.ipynb\u001b[0m in \u001b[0;36mforward\u001b[1;34m(ctx, input, A)\u001b[0m\n",
      "\u001b[1;32m~\\Dropbox\\Deep NMF\\Code\\Cathy Code\\Full Backprop Package\\lsqnonneg_module.ipynb\u001b[0m in \u001b[0;36mlsqnonneg_tensor_version\u001b[1;34m(C, D)\u001b[0m\n",
      "\u001b[1;32mC:\\Anaconda3\\lib\\site-packages\\scipy\\optimize\\nnls.py\u001b[0m in \u001b[0;36mnnls\u001b[1;34m(A, b, maxiter)\u001b[0m\n\u001b[0;32m     41\u001b[0m     \"\"\"\n\u001b[0;32m     42\u001b[0m \u001b[1;33m\u001b[0m\u001b[0m\n\u001b[1;32m---> 43\u001b[1;33m     \u001b[0mA\u001b[0m\u001b[1;33m,\u001b[0m \u001b[0mb\u001b[0m \u001b[1;33m=\u001b[0m \u001b[0mmap\u001b[0m\u001b[1;33m(\u001b[0m\u001b[0masarray_chkfinite\u001b[0m\u001b[1;33m,\u001b[0m \u001b[1;33m(\u001b[0m\u001b[0mA\u001b[0m\u001b[1;33m,\u001b[0m \u001b[0mb\u001b[0m\u001b[1;33m)\u001b[0m\u001b[1;33m)\u001b[0m\u001b[1;33m\u001b[0m\u001b[0m\n\u001b[0m\u001b[0;32m     44\u001b[0m \u001b[1;33m\u001b[0m\u001b[0m\n\u001b[0;32m     45\u001b[0m     \u001b[1;32mif\u001b[0m \u001b[0mlen\u001b[0m\u001b[1;33m(\u001b[0m\u001b[0mA\u001b[0m\u001b[1;33m.\u001b[0m\u001b[0mshape\u001b[0m\u001b[1;33m)\u001b[0m \u001b[1;33m!=\u001b[0m \u001b[1;36m2\u001b[0m\u001b[1;33m:\u001b[0m\u001b[1;33m\u001b[0m\u001b[0m\n",
      "\u001b[1;32mC:\\Anaconda3\\lib\\site-packages\\numpy\\lib\\function_base.py\u001b[0m in \u001b[0;36masarray_chkfinite\u001b[1;34m(a, dtype, order)\u001b[0m\n\u001b[0;32m   1229\u001b[0m     \"\"\"\n\u001b[0;32m   1230\u001b[0m     \u001b[0ma\u001b[0m \u001b[1;33m=\u001b[0m \u001b[0masarray\u001b[0m\u001b[1;33m(\u001b[0m\u001b[0ma\u001b[0m\u001b[1;33m,\u001b[0m \u001b[0mdtype\u001b[0m\u001b[1;33m=\u001b[0m\u001b[0mdtype\u001b[0m\u001b[1;33m,\u001b[0m \u001b[0morder\u001b[0m\u001b[1;33m=\u001b[0m\u001b[0morder\u001b[0m\u001b[1;33m)\u001b[0m\u001b[1;33m\u001b[0m\u001b[0m\n\u001b[1;32m-> 1231\u001b[1;33m     \u001b[1;32mif\u001b[0m \u001b[0ma\u001b[0m\u001b[1;33m.\u001b[0m\u001b[0mdtype\u001b[0m\u001b[1;33m.\u001b[0m\u001b[0mchar\u001b[0m \u001b[1;32min\u001b[0m \u001b[0mtypecodes\u001b[0m\u001b[1;33m[\u001b[0m\u001b[1;34m'AllFloat'\u001b[0m\u001b[1;33m]\u001b[0m \u001b[1;32mand\u001b[0m \u001b[1;32mnot\u001b[0m \u001b[0mnp\u001b[0m\u001b[1;33m.\u001b[0m\u001b[0misfinite\u001b[0m\u001b[1;33m(\u001b[0m\u001b[0ma\u001b[0m\u001b[1;33m)\u001b[0m\u001b[1;33m.\u001b[0m\u001b[0mall\u001b[0m\u001b[1;33m(\u001b[0m\u001b[1;33m)\u001b[0m\u001b[1;33m:\u001b[0m\u001b[1;33m\u001b[0m\u001b[0m\n\u001b[0m\u001b[0;32m   1232\u001b[0m         raise ValueError(\n\u001b[0;32m   1233\u001b[0m             \"array must not contain infs or NaNs\")\n",
      "\u001b[1;31mKeyboardInterrupt\u001b[0m: "
     ]
    }
   ],
   "source": [
    "net = Deep_NMF([m, 20])\n",
    "loss_func = Energy_Loss_Func()\n",
    "X_input = X*1000\n",
    "epoch = 400\n",
    "lr = 1000\n",
    "for i in range(epoch):\n",
    "    net.zero_grad()\n",
    "    S_lst = net(X_input)\n",
    "    loss = loss_func(net, X_input, S_lst)\n",
    "    loss.backward()\n",
    "    history.add_scalar('loss', loss.data)\n",
    "    for l in range(net.depth - 1):\n",
    "        A = net.lsqnonneglst[l].A\n",
    "        # record history\n",
    "        history.add_tensor('A'+str(l+1), A.data)\n",
    "        history.add_tensor('grad_A'+str(l+1), A.grad.data)\n",
    "        history.add_tensor('S' + str(l+1), S_lst[l].data)\n",
    "        # projection gradient descent\n",
    "        A.data = A.data.sub_(lr*A.grad.data)\n",
    "        A.data = A.data.clamp(min = 0)\n",
    "    if (i+1)%10 == 0:\n",
    "        print('epoch = ', i+1, '\\n', loss.data)"
   ]
  },
  {
   "cell_type": "code",
   "execution_count": 206,
   "metadata": {},
   "outputs": [
    {
     "data": {
      "image/png": "[encoded data removed]",
      "text/plain": [
       "<Figure size 1080x7560 with 1 Axes>"
      ]
     },
     "metadata": {},
     "output_type": "display_data"
    }
   ],
   "source": [
    "fig = plt.figure(figsize = (15,105))\n",
    "plt.imshow(S_lst[0].data.t())\n",
    "plt.show()"
   ]
  },
  {
   "cell_type": "code",
   "execution_count": null,
   "metadata": {},
   "outputs": [],
   "source": []
  },
  {
   "cell_type": "code",
   "execution_count": 83,
   "metadata": {},
   "outputs": [],
   "source": [
    "class L21_Norm(nn.Module):\n",
    "    def __init__(self):\n",
    "        super(L21_Norm, self).__init__()\n",
    "        self.criterion = nn.MSELoss()\n",
    "    def forward(self, S):\n",
    "        total = 0\n",
    "        n = S.shape[1]\n",
    "        for i in range(n):\n",
    "            total += torch.norm(S[:,i])\n",
    "        return total"
   ]
  },
  {
   "cell_type": "code",
   "execution_count": 84,
   "metadata": {},
   "outputs": [
    {
     "data": {
      "text/plain": [
       "tensor(0.1799, dtype=torch.float64)"
      ]
     },
     "execution_count": 84,
     "metadata": {},
     "output_type": "execute_result"
    }
   ],
   "source": [
    "criterion = L21_Norm()\n",
    "criterion(S_lst[0])"
   ]
  },
  {
   "cell_type": "code",
   "execution_count": 220,
   "metadata": {
    "scrolled": true
   },
   "outputs": [
    {
     "name": "stdout",
     "output_type": "stream",
     "text": [
      "epoch =  10 \n",
      " tensor(223.1349, dtype=torch.float64)\n",
      "epoch =  20 \n",
      " tensor(206.0051, dtype=torch.float64)\n",
      "epoch =  30 \n",
      " tensor(198.9112, dtype=torch.float64)\n",
      "epoch =  40 \n",
      " tensor(196.6342, dtype=torch.float64)\n",
      "epoch =  50 \n",
      " tensor(195.7168, dtype=torch.float64)\n",
      "epoch =  60 \n",
      " tensor(195.0718, dtype=torch.float64)\n",
      "epoch =  70 \n",
      " tensor(194.6028, dtype=torch.float64)\n",
      "epoch =  80 \n",
      " tensor(194.2446, dtype=torch.float64)\n",
      "epoch =  90 \n",
      " tensor(193.9560, dtype=torch.float64)\n",
      "epoch =  100 \n",
      " tensor(193.7209, dtype=torch.float64)\n"
     ]
    }
   ],
   "source": [
    "net = Deep_NMF([m, 20])\n",
    "loss_func = Energy_Loss_Func()\n",
    "X_input = X*1000\n",
    "epoch = 100\n",
    "lr = 100\n",
    "history = Writer()\n",
    "for i in range(epoch):\n",
    "    net.zero_grad()\n",
    "    S_lst = net(X_input)\n",
    "    loss = loss_func(net, X_input, S_lst) + 0.05*criterion(S_lst[0])\n",
    "    loss.backward()\n",
    "    history.add_scalar('loss', loss.data)\n",
    "    for l in range(net.depth - 1):\n",
    "        A = net.lsqnonneglst[l].A\n",
    "        # record history\n",
    "        # projection gradient descent\n",
    "        A.data = A.data.sub_(lr*A.grad.data)\n",
    "        A.data = A.data.clamp(min = 0)\n",
    "    if (i+1)%10 == 0:\n",
    "        print('epoch = ', i+1, '\\n', loss.data)"
   ]
  },
  {
   "cell_type": "code",
   "execution_count": 221,
   "metadata": {},
   "outputs": [
    {
     "data": {
      "image/png": "[encoded data removed]",
      "text/plain": [
       "<Figure size 432x288 with 1 Axes>"
      ]
     },
     "metadata": {},
     "output_type": "display_data"
    }
   ],
   "source": [
    "history.plot_scalar('loss')"
   ]
  },
  {
   "cell_type": "code",
   "execution_count": 222,
   "metadata": {},
   "outputs": [
    {
     "data": {
      "image/png": "[encoded data removed]",
      "text/plain": [
       "<Figure size 1080x7560 with 1 Axes>"
      ]
     },
     "metadata": {},
     "output_type": "display_data"
    }
   ],
   "source": [
    "fig = plt.figure(figsize = (15,105))\n",
    "plt.imshow(S_lst[0].data.t())\n",
    "plt.show()"
   ]
  },
  {
   "cell_type": "code",
   "execution_count": 224,
   "metadata": {},
   "outputs": [
    {
     "data": {
      "text/plain": [
       "tensor([  0.0141,   0.0012,  97.4985,   0.0000,   0.0306,  45.2992,\n",
       "         66.4292,  31.5699,  27.8000,   0.0000,   0.0068,   0.0000,\n",
       "          0.0000,   0.0146,   0.0413,   0.0082,   0.0000,  59.2383,\n",
       "         46.4427,   0.0000], dtype=torch.float64)"
      ]
     },
     "execution_count": 224,
     "metadata": {},
     "output_type": "execute_result"
    }
   ],
   "source": [
    "torch.sum(S_lst[0],dim = 0)"
   ]
  }
 ],
 "metadata": {
  "kernelspec": {
   "display_name": "Python 3",
   "language": "python",
   "name": "python3"
  },
  "language_info": {
   "codemirror_mode": {
    "name": "ipython",
    "version": 3
   },
   "file_extension": ".py",
   "mimetype": "text/x-python",
   "name": "python",
   "nbconvert_exporter": "python",
   "pygments_lexer": "ipython3",
   "version": "3.6.5"
  }
 },
 "nbformat": 4,
 "nbformat_minor": 2
}
