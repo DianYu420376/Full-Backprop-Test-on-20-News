{
 "cells": [
  {
   "cell_type": "code",
   "execution_count": null,
   "metadata": {
    "collapsed": true
   },
   "outputs": [],
   "source": [
    "# Date:2018.07.21\n",
    "# Author: Runyu Zhang"
   ]
  },
  {
   "cell_type": "code",
   "execution_count": 13,
   "metadata": {},
   "outputs": [],
   "source": [
    "from matplotlib import pyplot as plt\n",
    "import torch"
   ]
  },
  {
   "cell_type": "code",
   "execution_count": 21,
   "metadata": {},
   "outputs": [],
   "source": [
    "class Writer:\n",
    "    def __init__(self):\n",
    "        self.scalar_dict = {}\n",
    "        self.tensor_dict = {}\n",
    "        \n",
    "    def add_scalar(self, name, scalar):\n",
    "        if self.scalar_dict.get(name) is None:\n",
    "            self.scalar_dict[name] = [scalar]\n",
    "        else:\n",
    "            self.scalar_dict[name].append(scalar)\n",
    "            \n",
    "    def add_tensor(self, name, tensor):\n",
    "        if self.tensor_dict.get(name) is None:\n",
    "            self.tensor_dict[name] = [tensor]\n",
    "        else:\n",
    "            self.tensor_dict[name].append(tensor)\n",
    "            \n",
    "    def get(self, name):\n",
    "        scalar =  self.scalar_dict.get(name)\n",
    "        if scalar is not None:\n",
    "            return scalar\n",
    "        else:\n",
    "            tensor = self.tensor_dict.get(name)\n",
    "            if tensor is not None:\n",
    "                return tensor\n",
    "            else:\n",
    "                print('No variable with name:', name, 'in the dictionary')\n",
    "                \n",
    "    def plot_scalar(self, name):\n",
    "        lst = self.scalar_dict.get(name)\n",
    "        plt.plot(lst)\n",
    "        plt.show()\n",
    "        \n",
    "    def plot_tensor(self, name, idx_lst):\n",
    "        tensor_lst = self.tensor_dict.get(name)\n",
    "        for i in idx_lst:\n",
    "            if i < len(tensor_lst):\n",
    "                tensor = tensor_lst[i]\n",
    "                fig = plt.figure(figsize = (15,105))\n",
    "                plt.imshow(tensor.t())\n",
    "                plt.show()\n",
    "                \n",
    "    def cat_lst(self, name, dim=0):\n",
    "        data_lst =  self.scalar_dict.get(name)\n",
    "        if data_lst is not None:\n",
    "            cat_data = torch.cat(data_lst, dim)\n",
    "            return cat_data\n",
    "        else:\n",
    "            data_lst = self.tensor_dict.get(name)\n",
    "            if data_lst is not None:\n",
    "                cat_data = torch.cat(data_lst, dim)\n",
    "                return cat_data\n",
    "            else:\n",
    "                print('No variable with name:', name, 'in the dictionary')\n",
    "        "
   ]
  },
  {
   "cell_type": "code",
   "execution_count": 33,
   "metadata": {},
   "outputs": [],
   "source": [
    "import numpy as np\n",
    "S_lst = np.load('20_news_group_S_lst.npy')"
   ]
  },
  {
   "cell_type": "code",
   "execution_count": 50,
   "metadata": {},
   "outputs": [],
   "source": [
    "S_lst = [S_lst[i][0] for i in range(len(S_lst))]\n",
    "history = Writer()\n",
    "history.tensor_dict['output'] = S_lst"
   ]
  },
  {
   "cell_type": "code",
   "execution_count": 52,
   "metadata": {},
   "outputs": [],
   "source": [
    "S = history.cat_lst('output')"
   ]
  },
  {
   "cell_type": "code",
   "execution_count": 53,
   "metadata": {},
   "outputs": [
    {
     "data": {
      "text/plain": [
       "torch.Size([18846, 20])"
      ]
     },
     "execution_count": 53,
     "metadata": {},
     "output_type": "execute_result"
    }
   ],
   "source": [
    "S.shape"
   ]
  },
  {
   "cell_type": "code",
   "execution_count": null,
   "metadata": {},
   "outputs": [],
   "source": []
  }
 ],
 "metadata": {
  "kernelspec": {
   "display_name": "Python 3",
   "language": "python",
   "name": "python3"
  },
  "language_info": {
   "codemirror_mode": {
    "name": "ipython",
    "version": 3
   },
   "file_extension": ".py",
   "mimetype": "text/x-python",
   "name": "python",
   "nbconvert_exporter": "python",
   "pygments_lexer": "ipython3",
   "version": "3.6.5"
  }
 },
 "nbformat": 4,
 "nbformat_minor": 2
}
